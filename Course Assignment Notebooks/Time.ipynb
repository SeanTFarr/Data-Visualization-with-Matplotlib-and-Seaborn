{
 "cells": [
  {
   "cell_type": "code",
   "execution_count": 1,
   "id": "e93cc9ef",
   "metadata": {},
   "outputs": [],
   "source": [
    "import time\n",
    "from time import strftime, localtime\n",
    "import datetime\n",
    "from datetime import timedelta"
   ]
  },
  {
   "cell_type": "code",
   "execution_count": 2,
   "id": "b85baad6",
   "metadata": {},
   "outputs": [
    {
     "data": {
      "text/plain": [
       "1693356088.9504883"
      ]
     },
     "execution_count": 2,
     "metadata": {},
     "output_type": "execute_result"
    }
   ],
   "source": [
    "# To get current epoch time (in seconds)\n",
    "curepti=time.time()\n",
    "curepti"
   ]
  },
  {
   "cell_type": "code",
   "execution_count": 3,
   "id": "5475d370",
   "metadata": {},
   "outputs": [
    {
     "data": {
      "text/plain": [
       "'08-29-2023'"
      ]
     },
     "execution_count": 3,
     "metadata": {},
     "output_type": "execute_result"
    }
   ],
   "source": [
    "# to get the date from epoch time\n",
    "datetime.datetime.fromtimestamp(curepti).strftime('%m-%d-%Y')"
   ]
  },
  {
   "cell_type": "code",
   "execution_count": 4,
   "id": "fe8719b7",
   "metadata": {},
   "outputs": [
    {
     "data": {
      "text/plain": [
       "datetime.timedelta(days=18341)"
      ]
     },
     "execution_count": 4,
     "metadata": {},
     "output_type": "execute_result"
    }
   ],
   "source": [
    "# to find the timedelta subtract date you want from original epoch date\n",
    "datetime.datetime(2020,3,20)-datetime.datetime(1970,1,1)"
   ]
  },
  {
   "cell_type": "code",
   "execution_count": 5,
   "id": "d32dec5c",
   "metadata": {},
   "outputs": [
    {
     "data": {
      "text/plain": [
       "'Thu, 19 Mar 2020'"
      ]
     },
     "execution_count": 5,
     "metadata": {},
     "output_type": "execute_result"
    }
   ],
   "source": [
    "# python if given a 5 digit timestamp, it is likely the number of days, not seconds\n",
    "# to convert you must multiply by seconds in a day (not really accurate)\n",
    "strftime(\"%a, %d %b %Y\", localtime(18341 * 86400))"
   ]
  },
  {
   "cell_type": "code",
   "execution_count": 6,
   "id": "fe15d83a",
   "metadata": {},
   "outputs": [
    {
     "name": "stdout",
     "output_type": "stream",
     "text": [
      "2020-03-20\n"
     ]
    }
   ],
   "source": [
    "# another method for calculating days from the 5 digit is using timedelta\n",
    "n = 18341\n",
    "print((datetime.datetime.utcfromtimestamp(0) + timedelta(n)).strftime(\"%Y-%m-%d\"))"
   ]
  }
 ],
 "metadata": {
  "kernelspec": {
   "display_name": "Python 3 (ipykernel)",
   "language": "python",
   "name": "python3"
  },
  "language_info": {
   "codemirror_mode": {
    "name": "ipython",
    "version": 3
   },
   "file_extension": ".py",
   "mimetype": "text/x-python",
   "name": "python",
   "nbconvert_exporter": "python",
   "pygments_lexer": "ipython3",
   "version": "3.8.8"
  }
 },
 "nbformat": 4,
 "nbformat_minor": 5
}
