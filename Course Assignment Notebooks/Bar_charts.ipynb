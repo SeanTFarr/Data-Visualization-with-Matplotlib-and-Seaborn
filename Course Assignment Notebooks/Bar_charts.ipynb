{
 "cells": [
  {
   "cell_type": "code",
   "execution_count": 14,
   "id": "6039168e",
   "metadata": {},
   "outputs": [],
   "source": [
    "import pandas as pd\n",
    "import numpy as np\n",
    "\n",
    "import matplotlib.pyplot as plt\n",
    "import seaborn as sns"
   ]
  },
  {
   "cell_type": "code",
   "execution_count": 2,
   "id": "6845c78f",
   "metadata": {},
   "outputs": [],
   "source": [
    "housing_raw = pd.read_csv(\n",
    "    \"../Data/housing_data.csv\",\n",
    "    parse_dates=[\"period_begin\", \"period_end\"],\n",
    "dtype={\"total_homes_sold\": \"Int32\", \"region_name\": \"category\"})"
   ]
  },
  {
   "cell_type": "code",
   "execution_count": 3,
   "id": "f5488a1a",
   "metadata": {},
   "outputs": [
    {
     "data": {
      "text/plain": [
       "Index(['region_name', 'period_begin', 'period_end', 'total_homes_sold',\n",
       "       'inventory', 'active_listings', 'age_of_inventory',\n",
       "       'median_active_list_price', 'months_of_supply'],\n",
       "      dtype='object')"
      ]
     },
     "execution_count": 3,
     "metadata": {},
     "output_type": "execute_result"
    }
   ],
   "source": [
    "housing_raw.columns"
   ]
  },
  {
   "cell_type": "code",
   "execution_count": 4,
   "id": "ed6f0b27",
   "metadata": {},
   "outputs": [],
   "source": [
    "ca_housing = (housing_raw\n",
    "    .loc[(housing_raw[\"region_name\"]\n",
    "    .str.contains(\"CA\"))]\n",
    "    #deleting the last 11 spaces in \"region_name\"(i.e.\"County,GA\")\n",
    "    .assign(region_name = housing_raw[\"region_name\"].str[0:-11])\n",
    "    .set_index(\"period_begin\").sort_index() # setting different index and sorting it\n",
    ")"
   ]
  },
  {
   "cell_type": "code",
   "execution_count": 5,
   "id": "a7df81aa",
   "metadata": {},
   "outputs": [
    {
     "data": {
      "text/html": [
       "<div>\n",
       "<style scoped>\n",
       "    .dataframe tbody tr th:only-of-type {\n",
       "        vertical-align: middle;\n",
       "    }\n",
       "\n",
       "    .dataframe tbody tr th {\n",
       "        vertical-align: top;\n",
       "    }\n",
       "\n",
       "    .dataframe thead th {\n",
       "        text-align: right;\n",
       "    }\n",
       "</style>\n",
       "<table border=\"1\" class=\"dataframe\">\n",
       "  <thead>\n",
       "    <tr style=\"text-align: right;\">\n",
       "      <th></th>\n",
       "      <th>region_name</th>\n",
       "      <th>period_end</th>\n",
       "      <th>total_homes_sold</th>\n",
       "      <th>inventory</th>\n",
       "      <th>active_listings</th>\n",
       "      <th>age_of_inventory</th>\n",
       "      <th>median_active_list_price</th>\n",
       "      <th>months_of_supply</th>\n",
       "    </tr>\n",
       "    <tr>\n",
       "      <th>period_begin</th>\n",
       "      <th></th>\n",
       "      <th></th>\n",
       "      <th></th>\n",
       "      <th></th>\n",
       "      <th></th>\n",
       "      <th></th>\n",
       "      <th></th>\n",
       "      <th></th>\n",
       "    </tr>\n",
       "  </thead>\n",
       "  <tbody>\n",
       "    <tr>\n",
       "      <th>2017-01-02</th>\n",
       "      <td>Mono</td>\n",
       "      <td>2017-03-26</td>\n",
       "      <td>97</td>\n",
       "      <td>153.0</td>\n",
       "      <td>161.0</td>\n",
       "      <td>89.7</td>\n",
       "      <td>450745.8</td>\n",
       "      <td>21.208631</td>\n",
       "    </tr>\n",
       "    <tr>\n",
       "      <th>2017-01-02</th>\n",
       "      <td>Yolo</td>\n",
       "      <td>2017-03-26</td>\n",
       "      <td>336</td>\n",
       "      <td>234.0</td>\n",
       "      <td>272.0</td>\n",
       "      <td>48.5</td>\n",
       "      <td>447859.2</td>\n",
       "      <td>9.857470</td>\n",
       "    </tr>\n",
       "    <tr>\n",
       "      <th>2017-01-02</th>\n",
       "      <td>Stanislaus</td>\n",
       "      <td>2017-03-26</td>\n",
       "      <td>1192</td>\n",
       "      <td>912.0</td>\n",
       "      <td>1043.0</td>\n",
       "      <td>55.3</td>\n",
       "      <td>300302.0</td>\n",
       "      <td>10.971331</td>\n",
       "    </tr>\n",
       "    <tr>\n",
       "      <th>2017-01-02</th>\n",
       "      <td>Shasta</td>\n",
       "      <td>2017-03-26</td>\n",
       "      <td>7</td>\n",
       "      <td>17.0</td>\n",
       "      <td>18.0</td>\n",
       "      <td>147.5</td>\n",
       "      <td>489020.8</td>\n",
       "      <td>17.333333</td>\n",
       "    </tr>\n",
       "    <tr>\n",
       "      <th>2017-01-02</th>\n",
       "      <td>Lassen</td>\n",
       "      <td>2017-03-26</td>\n",
       "      <td>2</td>\n",
       "      <td>5.0</td>\n",
       "      <td>5.0</td>\n",
       "      <td>98.8</td>\n",
       "      <td>198750.0</td>\n",
       "      <td>5.500000</td>\n",
       "    </tr>\n",
       "  </tbody>\n",
       "</table>\n",
       "</div>"
      ],
      "text/plain": [
       "             region_name period_end  total_homes_sold  inventory  \\\n",
       "period_begin                                                       \n",
       "2017-01-02          Mono 2017-03-26                97      153.0   \n",
       "2017-01-02          Yolo 2017-03-26               336      234.0   \n",
       "2017-01-02    Stanislaus 2017-03-26              1192      912.0   \n",
       "2017-01-02        Shasta 2017-03-26                 7       17.0   \n",
       "2017-01-02        Lassen 2017-03-26                 2        5.0   \n",
       "\n",
       "              active_listings  age_of_inventory  median_active_list_price  \\\n",
       "period_begin                                                                \n",
       "2017-01-02              161.0              89.7                  450745.8   \n",
       "2017-01-02              272.0              48.5                  447859.2   \n",
       "2017-01-02             1043.0              55.3                  300302.0   \n",
       "2017-01-02               18.0             147.5                  489020.8   \n",
       "2017-01-02                5.0              98.8                  198750.0   \n",
       "\n",
       "              months_of_supply  \n",
       "period_begin                    \n",
       "2017-01-02           21.208631  \n",
       "2017-01-02            9.857470  \n",
       "2017-01-02           10.971331  \n",
       "2017-01-02           17.333333  \n",
       "2017-01-02            5.500000  "
      ]
     },
     "execution_count": 5,
     "metadata": {},
     "output_type": "execute_result"
    }
   ],
   "source": [
    "ca_housing.head()"
   ]
  },
  {
   "cell_type": "code",
   "execution_count": 9,
   "id": "f8238297",
   "metadata": {
    "scrolled": true
   },
   "outputs": [],
   "source": [
    "small_ca_housing=ca_housing.loc[ca_housing[\"region_name\"].str.contains(\"San Francisco|Los Angeles|San Diego\")]"
   ]
  },
  {
   "cell_type": "code",
   "execution_count": null,
   "id": "3bf07d92",
   "metadata": {},
   "outputs": [],
   "source": []
  },
  {
   "cell_type": "code",
   "execution_count": 10,
   "id": "bf55e97b",
   "metadata": {},
   "outputs": [
    {
     "data": {
      "text/html": [
       "<div>\n",
       "<style scoped>\n",
       "    .dataframe tbody tr th:only-of-type {\n",
       "        vertical-align: middle;\n",
       "    }\n",
       "\n",
       "    .dataframe tbody tr th {\n",
       "        vertical-align: top;\n",
       "    }\n",
       "\n",
       "    .dataframe thead th {\n",
       "        text-align: right;\n",
       "    }\n",
       "</style>\n",
       "<table border=\"1\" class=\"dataframe\">\n",
       "  <thead>\n",
       "    <tr style=\"text-align: right;\">\n",
       "      <th></th>\n",
       "      <th>median_active_list_price</th>\n",
       "    </tr>\n",
       "    <tr>\n",
       "      <th>region_name</th>\n",
       "      <th></th>\n",
       "    </tr>\n",
       "  </thead>\n",
       "  <tbody>\n",
       "    <tr>\n",
       "      <th>Los Angeles</th>\n",
       "      <td>7.682253e+05</td>\n",
       "    </tr>\n",
       "    <tr>\n",
       "      <th>San Diego</th>\n",
       "      <td>7.168183e+05</td>\n",
       "    </tr>\n",
       "    <tr>\n",
       "      <th>San Francisco</th>\n",
       "      <td>1.358263e+06</td>\n",
       "    </tr>\n",
       "  </tbody>\n",
       "</table>\n",
       "</div>"
      ],
      "text/plain": [
       "               median_active_list_price\n",
       "region_name                            \n",
       "Los Angeles                7.682253e+05\n",
       "San Diego                  7.168183e+05\n",
       "San Francisco              1.358263e+06"
      ]
     },
     "execution_count": 10,
     "metadata": {},
     "output_type": "execute_result"
    }
   ],
   "source": [
    "ca_housing_pivot= small_ca_housing.pivot_table(index=\"region_name\",\n",
    "                                              values= \"median_active_list_price\")\n",
    "ca_housing_pivot.head()"
   ]
  },
  {
   "cell_type": "code",
   "execution_count": 16,
   "id": "1f622404",
   "metadata": {},
   "outputs": [
    {
     "data": {
      "text/plain": [
       "<BarContainer object of 3 artists>"
      ]
     },
     "execution_count": 16,
     "metadata": {},
     "output_type": "execute_result"
    },
    {
     "data": {
      "image/png": "[encoded data removed]",
      "text/plain": [
       "<Figure size 640x480 with 1 Axes>"
      ]
     },
     "metadata": {},
     "output_type": "display_data"
    }
   ],
   "source": [
    "fig,ax=plt.subplots()\n",
    "ax.bar(ca_housing_pivot.index,ca_housing_pivot[\"median_active_list_price\"]/1000000 )"
   ]
  },
  {
   "cell_type": "markdown",
   "id": "2817696f",
   "metadata": {},
   "source": [
    "### demo on horizontal bar charts, how to reverse the order"
   ]
  },
  {
   "cell_type": "code",
   "execution_count": 20,
   "id": "73f803dc",
   "metadata": {},
   "outputs": [
    {
     "data": {
      "text/plain": [
       "<BarContainer object of 5 artists>"
      ]
     },
     "execution_count": 20,
     "metadata": {},
     "output_type": "execute_result"
    },
    {
     "data": {
      "image/png": "[encoded data removed]",
      "text/plain": [
       "<Figure size 640x480 with 1 Axes>"
      ]
     },
     "metadata": {},
     "output_type": "display_data"
    }
   ],
   "source": [
    "# first as a bar chart\n",
    "fig,ax=plt.subplots()\n",
    "\n",
    "labels=[\"E\", \"D\", \"C\", \"B\",\"A\"]\n",
    "data=[0,1,2,3,4]\n",
    "\n",
    "ax.bar(labels,data)"
   ]
  },
  {
   "cell_type": "code",
   "execution_count": 18,
   "id": "5ed837d9",
   "metadata": {},
   "outputs": [
    {
     "data": {
      "text/plain": [
       "<BarContainer object of 5 artists>"
      ]
     },
     "execution_count": 18,
     "metadata": {},
     "output_type": "execute_result"
    },
    {
     "data": {
      "image/png": "[encoded data removed]",
      "text/plain": [
       "<Figure size 640x480 with 1 Axes>"
      ]
     },
     "metadata": {},
     "output_type": "display_data"
    }
   ],
   "source": [
    "# horizontal bar, note the order\n",
    "fig,ax=plt.subplots()\n",
    "\n",
    "labels=[\"E\", \"D\", \"C\", \"B\", \"A\"]\n",
    "data=[0,1,2,3,4]\n",
    "\n",
    "ax.barh(labels,data)"
   ]
  },
  {
   "cell_type": "code",
   "execution_count": 22,
   "id": "2b1f7b46",
   "metadata": {},
   "outputs": [
    {
     "data": {
      "text/plain": [
       "<BarContainer object of 5 artists>"
      ]
     },
     "execution_count": 22,
     "metadata": {},
     "output_type": "execute_result"
    },
    {
     "data": {
      "image/png": "[encoded data removed]",
      "text/plain": [
       "<Figure size 640x480 with 1 Axes>"
      ]
     },
     "metadata": {},
     "output_type": "display_data"
    }
   ],
   "source": [
    "# to reverse the order,slice it\n",
    "fig,ax=plt.subplots()\n",
    "\n",
    "labels=[\"E\", \"D\", \"C\", \"B\", \"A\"][::-1]\n",
    "data=[0,1,2,3,4][::-1]\n",
    "\n",
    "ax.barh(labels,data)"
   ]
  },
  {
   "cell_type": "markdown",
   "id": "c63e4dab",
   "metadata": {},
   "source": [
    "### back to housing"
   ]
  },
  {
   "cell_type": "code",
   "execution_count": 23,
   "id": "f29f7738",
   "metadata": {},
   "outputs": [],
   "source": [
    "total_sold=(ca_housing\n",
    "           .groupby(\"region_name\")#group by the regions\n",
    "           .agg({\"total_homes_sold\":\"sum\"})# aggregate the sum of total homes sold\n",
    "           .sort_values(\"total_homes_sold\", ascending=False)# sort from hisghest to lowest\n",
    "           .iloc[:10])#pull the top 10"
   ]
  },
  {
   "cell_type": "code",
   "execution_count": 24,
   "id": "cfeeedec",
   "metadata": {},
   "outputs": [
    {
     "data": {
      "text/html": [
       "<div>\n",
       "<style scoped>\n",
       "    .dataframe tbody tr th:only-of-type {\n",
       "        vertical-align: middle;\n",
       "    }\n",
       "\n",
       "    .dataframe tbody tr th {\n",
       "        vertical-align: top;\n",
       "    }\n",
       "\n",
       "    .dataframe thead th {\n",
       "        text-align: right;\n",
       "    }\n",
       "</style>\n",
       "<table border=\"1\" class=\"dataframe\">\n",
       "  <thead>\n",
       "    <tr style=\"text-align: right;\">\n",
       "      <th></th>\n",
       "      <th>total_homes_sold</th>\n",
       "    </tr>\n",
       "    <tr>\n",
       "      <th>region_name</th>\n",
       "      <th></th>\n",
       "    </tr>\n",
       "  </thead>\n",
       "  <tbody>\n",
       "    <tr>\n",
       "      <th>Los Angeles</th>\n",
       "      <td>4622703</td>\n",
       "    </tr>\n",
       "    <tr>\n",
       "      <th>San Diego</th>\n",
       "      <td>2373289</td>\n",
       "    </tr>\n",
       "    <tr>\n",
       "      <th>Riverside</th>\n",
       "      <td>2335243</td>\n",
       "    </tr>\n",
       "    <tr>\n",
       "      <th>Orange</th>\n",
       "      <td>2004799</td>\n",
       "    </tr>\n",
       "    <tr>\n",
       "      <th>San Bernardino</th>\n",
       "      <td>1705727</td>\n",
       "    </tr>\n",
       "    <tr>\n",
       "      <th>Sacramento</th>\n",
       "      <td>1256838</td>\n",
       "    </tr>\n",
       "    <tr>\n",
       "      <th>Santa Clara</th>\n",
       "      <td>967707</td>\n",
       "    </tr>\n",
       "    <tr>\n",
       "      <th>Alameda</th>\n",
       "      <td>925469</td>\n",
       "    </tr>\n",
       "    <tr>\n",
       "      <th>Contra Costa</th>\n",
       "      <td>921039</td>\n",
       "    </tr>\n",
       "    <tr>\n",
       "      <th>Fresno</th>\n",
       "      <td>608004</td>\n",
       "    </tr>\n",
       "  </tbody>\n",
       "</table>\n",
       "</div>"
      ],
      "text/plain": [
       "                total_homes_sold\n",
       "region_name                     \n",
       "Los Angeles              4622703\n",
       "San Diego                2373289\n",
       "Riverside                2335243\n",
       "Orange                   2004799\n",
       "San Bernardino           1705727\n",
       "Sacramento               1256838\n",
       "Santa Clara               967707\n",
       "Alameda                   925469\n",
       "Contra Costa              921039\n",
       "Fresno                    608004"
      ]
     },
     "execution_count": 24,
     "metadata": {},
     "output_type": "execute_result"
    }
   ],
   "source": [
    "total_sold"
   ]
  },
  {
   "cell_type": "code",
   "execution_count": 27,
   "id": "1c1ac973",
   "metadata": {},
   "outputs": [
    {
     "data": {
      "image/png": "[encoded data removed]",
      "text/plain": [
       "<Figure size 640x480 with 1 Axes>"
      ]
     },
     "metadata": {},
     "output_type": "display_data"
    }
   ],
   "source": [
    "\n",
    "fig,ax=plt.subplots()\n",
    "\n",
    "ax.bar(total_sold.index, total_sold['total_homes_sold']/1000000\n",
    "      )\n",
    "\n",
    "ax.xaxis.set_tick_params(rotation=90)"
   ]
  },
  {
   "cell_type": "code",
   "execution_count": 28,
   "id": "f5656590",
   "metadata": {},
   "outputs": [
    {
     "data": {
      "image/png": "[encoded data removed]",
      "text/plain": [
       "<Figure size 640x480 with 1 Axes>"
      ]
     },
     "metadata": {},
     "output_type": "display_data"
    }
   ],
   "source": [
    "# to add color to the bars!\n",
    "fig,ax=plt.subplots()\n",
    "\n",
    "colors=[\n",
    "    \"blue\",\n",
    "    \"blue\",\n",
    "    \"blue\",\n",
    "    \"blue\",\n",
    "    \"blue\",\n",
    "    \"red\",\n",
    "    \"orange\",\n",
    "    \"orange\",\n",
    "    \"orange\",\n",
    "    \"red\",\n",
    "]\n",
    "\n",
    "ax.bar(total_sold.index, total_sold['total_homes_sold']/1000000,\n",
    "       color=colors\n",
    "      )\n",
    "\n",
    "ax.xaxis.set_tick_params(rotation=90)"
   ]
  },
  {
   "cell_type": "code",
   "execution_count": 30,
   "id": "1bfd86da",
   "metadata": {},
   "outputs": [
    {
     "data": {
      "image/png": "[encoded data removed]",
      "text/plain": [
       "<Figure size 640x480 with 1 Axes>"
      ]
     },
     "metadata": {},
     "output_type": "display_data"
    }
   ],
   "source": [
    "# to add a custom legend, first import mpatches\n",
    "import matplotlib.patches as mpatches\n",
    "\n",
    "fig,ax=plt.subplots()\n",
    "\n",
    "colors=[\n",
    "    \"blue\",\n",
    "    \"blue\",\n",
    "    \"blue\",\n",
    "    \"blue\",\n",
    "    \"blue\",\n",
    "    \"red\",\n",
    "    \"orange\",\n",
    "    \"orange\",\n",
    "    \"orange\",\n",
    "    \"red\",\n",
    "]\n",
    "\n",
    "ax.bar(total_sold.index, total_sold['total_homes_sold']/1000000,\n",
    "       color=colors\n",
    "      )\n",
    "# this creates a legend that is not connected to the chart\n",
    "#the variables\n",
    "socal=mpatches.Patch(color=\"blue\", label=\"SoCal\")\n",
    "central=mpatches.Patch(color=\"red\", label=\"Central Valley\")\n",
    "bay=mpatches.Patch(color=\"orange\", label=\"Bay Area\")\n",
    "#calling the legend\n",
    "plt.legend(handles=[socal,central,bay], loc=\"upper right\")\n",
    "\n",
    "ax.xaxis.set_tick_params(rotation=90)"
   ]
  },
  {
   "cell_type": "code",
   "execution_count": null,
   "id": "f1ca5168",
   "metadata": {},
   "outputs": [],
   "source": []
  }
 ],
 "metadata": {
  "kernelspec": {
   "display_name": "Python 3 (ipykernel)",
   "language": "python",
   "name": "python3"
  },
  "language_info": {
   "codemirror_mode": {
    "name": "ipython",
    "version": 3
   },
   "file_extension": ".py",
   "mimetype": "text/x-python",
   "name": "python",
   "nbconvert_exporter": "python",
   "pygments_lexer": "ipython3",
   "version": "3.8.8"
  }
 },
 "nbformat": 4,
 "nbformat_minor": 5
}
